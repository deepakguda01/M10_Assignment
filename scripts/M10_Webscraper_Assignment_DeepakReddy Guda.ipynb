{
 "cells": [
  {
   "cell_type": "markdown",
   "id": "c09b1aab",
   "metadata": {},
   "source": [
    "# M10 Assignment: Web Scraping with selenium\n",
    "\n",
    "- Author: Deepak Reddy Guda\n",
    "- version 1.0\n",
    "\n",
    "## References\n",
    "- https://www.programiz.com/python-programming/working-csv-files\n",
    "- https://boto3.amazonaws.com/v1/documentation/api/latest/reference/services/s3.html#S3.Client.create_bucket\n",
    "- https://realpython.com/python-boto3-aws-s3/\n",
    "- https://robertorocha.info/setting-up-a-selenium-web-scraper-on-aws-lambda-with-python/ "
   ]
  },
  {
   "cell_type": "markdown",
   "id": "85bea752",
   "metadata": {},
   "source": [
    "### Step 1.1: Loading Modules and Setup WebDriver"
   ]
  },
  {
   "cell_type": "code",
   "execution_count": 1,
   "id": "e6216a22",
   "metadata": {},
   "outputs": [
    {
     "name": "stdout",
     "output_type": "stream",
     "text": [
      "Requirement already satisfied: selenium in c:\\users\\deepa\\anaconda3\\lib\\site-packages (4.19.0)\n",
      "Requirement already satisfied: urllib3[socks]<3,>=1.26 in c:\\users\\deepa\\anaconda3\\lib\\site-packages (from selenium) (1.26.16)\n",
      "Requirement already satisfied: trio~=0.17 in c:\\users\\deepa\\anaconda3\\lib\\site-packages (from selenium) (0.25.0)\n",
      "Requirement already satisfied: trio-websocket~=0.9 in c:\\users\\deepa\\anaconda3\\lib\\site-packages (from selenium) (0.11.1)\n",
      "Requirement already satisfied: certifi>=2021.10.8 in c:\\users\\deepa\\anaconda3\\lib\\site-packages (from selenium) (2023.7.22)\n",
      "Requirement already satisfied: typing_extensions>=4.9.0 in c:\\users\\deepa\\anaconda3\\lib\\site-packages (from selenium) (4.11.0)\n",
      "Requirement already satisfied: attrs>=23.2.0 in c:\\users\\deepa\\anaconda3\\lib\\site-packages (from trio~=0.17->selenium) (23.2.0)\n",
      "Requirement already satisfied: sortedcontainers in c:\\users\\deepa\\anaconda3\\lib\\site-packages (from trio~=0.17->selenium) (2.4.0)\n",
      "Requirement already satisfied: idna in c:\\users\\deepa\\anaconda3\\lib\\site-packages (from trio~=0.17->selenium) (3.4)\n",
      "Requirement already satisfied: outcome in c:\\users\\deepa\\anaconda3\\lib\\site-packages (from trio~=0.17->selenium) (1.3.0.post0)\n",
      "Requirement already satisfied: sniffio>=1.3.0 in c:\\users\\deepa\\anaconda3\\lib\\site-packages (from trio~=0.17->selenium) (1.3.1)\n",
      "Requirement already satisfied: cffi>=1.14 in c:\\users\\deepa\\anaconda3\\lib\\site-packages (from trio~=0.17->selenium) (1.15.1)\n",
      "Requirement already satisfied: wsproto>=0.14 in c:\\users\\deepa\\anaconda3\\lib\\site-packages (from trio-websocket~=0.9->selenium) (1.2.0)\n",
      "Requirement already satisfied: PySocks!=1.5.7,<2.0,>=1.5.6 in c:\\users\\deepa\\anaconda3\\lib\\site-packages (from urllib3[socks]<3,>=1.26->selenium) (1.7.1)\n",
      "Requirement already satisfied: pycparser in c:\\users\\deepa\\anaconda3\\lib\\site-packages (from cffi>=1.14->trio~=0.17->selenium) (2.21)\n",
      "Requirement already satisfied: h11<1,>=0.9.0 in c:\\users\\deepa\\anaconda3\\lib\\site-packages (from wsproto>=0.14->trio-websocket~=0.9->selenium) (0.14.0)\n",
      "Note: you may need to restart the kernel to use updated packages.\n"
     ]
    }
   ],
   "source": [
    "pip install selenium"
   ]
  },
  {
   "cell_type": "code",
   "execution_count": 2,
   "id": "664fe29c",
   "metadata": {},
   "outputs": [
    {
     "name": "stdout",
     "output_type": "stream",
     "text": [
      "Requirement already satisfied: webdriver_manager in c:\\users\\deepa\\anaconda3\\lib\\site-packages (4.0.1)\n",
      "Requirement already satisfied: requests in c:\\users\\deepa\\anaconda3\\lib\\site-packages (from webdriver_manager) (2.31.0)\n",
      "Requirement already satisfied: python-dotenv in c:\\users\\deepa\\anaconda3\\lib\\site-packages (from webdriver_manager) (1.0.1)\n",
      "Requirement already satisfied: packaging in c:\\users\\deepa\\anaconda3\\lib\\site-packages (from webdriver_manager) (23.0)\n",
      "Requirement already satisfied: charset-normalizer<4,>=2 in c:\\users\\deepa\\anaconda3\\lib\\site-packages (from requests->webdriver_manager) (2.0.4)\n",
      "Requirement already satisfied: idna<4,>=2.5 in c:\\users\\deepa\\anaconda3\\lib\\site-packages (from requests->webdriver_manager) (3.4)\n",
      "Requirement already satisfied: urllib3<3,>=1.21.1 in c:\\users\\deepa\\anaconda3\\lib\\site-packages (from requests->webdriver_manager) (1.26.16)\n",
      "Requirement already satisfied: certifi>=2017.4.17 in c:\\users\\deepa\\anaconda3\\lib\\site-packages (from requests->webdriver_manager) (2023.7.22)\n",
      "Note: you may need to restart the kernel to use updated packages.\n"
     ]
    }
   ],
   "source": [
    "pip install webdriver_manager"
   ]
  },
  {
   "cell_type": "code",
   "execution_count": 3,
   "id": "7ac8ef9f",
   "metadata": {},
   "outputs": [],
   "source": [
    "import pandas as pd\n",
    "from selenium import webdriver\n",
    "from selenium.webdriver.common.by import By\n",
    "from selenium.webdriver.chrome.service import Service\n",
    "from selenium.common.exceptions import NoSuchElementException\n",
    "from webdriver_manager.chrome import ChromeDriverManager\n",
    "from time import sleep\n",
    "\n",
    "# Set up WebDriver\n",
    "s = Service(ChromeDriverManager().install())\n",
    "browser = webdriver.Chrome(service=s)\n",
    "\n",
    "# Function to scrape the current page\n",
    "def scrape_current_page(browser):\n",
    "    table = browser.find_element(By.CSS_SELECTOR, 'table.Bordered')\n",
    "    data = []\n",
    "    for row in table.find_elements(By.CSS_SELECTOR, 'tr')[1:]:  # Skip the header row\n",
    "        cells = row.find_elements(By.CSS_SELECTOR, 'td')\n",
    "        if cells:  # Check if there are cells in the row\n",
    "            data.append([cell.text for cell in cells])\n",
    "    return data\n",
    "\n",
    "# Access the URL with WebDriver\n",
    "browser.get('https://www.charitiesnys.com/RegistrySearch/search_charities.jsp')\n",
    "\n",
    "# Find and input search criteria\n",
    "inputElement = browser.find_element(By.XPATH,'//*[@id=\"header\"]/div[2]/div/table/tbody/tr/td[2]/div/div/font/font/font/font/font/font/table/tbody/tr[4]/td/form/table/tbody/tr[2]/td[2]/input[1]')\n",
    "inputElement.send_keys('0')\n",
    "\n",
    "# Click the search button\n",
    "inputElement1 = browser.find_element(By.XPATH,'//*[@id=\"header\"]/div[2]/div/table/tbody/tr/td[2]/div/div/font/font/font/font/font/font/table/tbody/tr[4]/td/form/table/tbody/tr[10]/td/input[1]').click()\n",
    "sleep(4)\n",
    "\n",
    "# Initialize empty list to store all pages' data\n",
    "all_pages_data = []\n",
    "\n",
    "# Define a flag for whether to continue scraping\n",
    "continue_scraping = True\n",
    "\n",
    "while continue_scraping:\n",
    "    # Scrape the current page\n",
    "    current_page_data = scrape_current_page(browser)\n",
    "    all_pages_data.extend(current_page_data)\n",
    "    \n",
    "    try:\n",
    "        # Attempt to find and click the 'Next' button\n",
    "        next_button = browser.find_element(By.LINK_TEXT, 'Next')\n",
    "        next_button.click()\n",
    "        sleep(4)  # Wait for the next page to load\n",
    "    except NoSuchElementException:\n",
    "        # If 'Next' button is not found, exit the loop\n",
    "        continue_scraping = False\n",
    "\n",
    "# Now close the browser\n",
    "browser.quit()\n"
   ]
  },
  {
   "cell_type": "markdown",
   "id": "c7f10d85",
   "metadata": {},
   "source": [
    "### Step 1.2: Scraping the Website and Creating DataFrame"
   ]
  },
  {
   "cell_type": "code",
   "execution_count": 4,
   "id": "be64c4a6",
   "metadata": {},
   "outputs": [
    {
     "data": {
      "text/html": [
       "<div>\n",
       "<style scoped>\n",
       "    .dataframe tbody tr th:only-of-type {\n",
       "        vertical-align: middle;\n",
       "    }\n",
       "\n",
       "    .dataframe tbody tr th {\n",
       "        vertical-align: top;\n",
       "    }\n",
       "\n",
       "    .dataframe thead th {\n",
       "        text-align: right;\n",
       "    }\n",
       "</style>\n",
       "<table border=\"1\" class=\"dataframe\">\n",
       "  <thead>\n",
       "    <tr style=\"text-align: right;\">\n",
       "      <th></th>\n",
       "      <th>Organization Name</th>\n",
       "      <th>NY Reg #</th>\n",
       "      <th>EIN</th>\n",
       "      <th>Registrant Type</th>\n",
       "      <th>City</th>\n",
       "      <th>State</th>\n",
       "    </tr>\n",
       "  </thead>\n",
       "  <tbody>\n",
       "    <tr>\n",
       "      <th>0</th>\n",
       "      <td>\"Forever Captain Poodaman\" The Ahmad Butler Fo...</td>\n",
       "      <td>48-07-16</td>\n",
       "      <td>843800926</td>\n",
       "      <td>NFP</td>\n",
       "      <td>PHILADELPHIA</td>\n",
       "      <td>PA</td>\n",
       "    </tr>\n",
       "    <tr>\n",
       "      <th>1</th>\n",
       "      <td>\"Incredibly Blessed\" Inc</td>\n",
       "      <td>49-54-61</td>\n",
       "      <td>842071758</td>\n",
       "      <td>NFP</td>\n",
       "      <td>STATEN ISLAND</td>\n",
       "      <td>NY</td>\n",
       "    </tr>\n",
       "    <tr>\n",
       "      <th>2</th>\n",
       "      <td>\"R\" S.U.C.C.E.S.S. Foundation Inc.</td>\n",
       "      <td>49-06-59</td>\n",
       "      <td>874012670</td>\n",
       "      <td>NFP</td>\n",
       "      <td>ROCHESTER</td>\n",
       "      <td>NY</td>\n",
       "    </tr>\n",
       "    <tr>\n",
       "      <th>3</th>\n",
       "      <td>\"Studio 5404\" Inc.</td>\n",
       "      <td>44-39-58</td>\n",
       "      <td>463180470</td>\n",
       "      <td>NFP</td>\n",
       "      <td>MASSAPAQUA</td>\n",
       "      <td>NY</td>\n",
       "    </tr>\n",
       "    <tr>\n",
       "      <th>4</th>\n",
       "      <td>\"THEY ARE HAITIAN\" FUND, INC.</td>\n",
       "      <td>20-63-46</td>\n",
       "      <td>300170128</td>\n",
       "      <td>NFP</td>\n",
       "      <td>HUDSON</td>\n",
       "      <td>NY</td>\n",
       "    </tr>\n",
       "    <tr>\n",
       "      <th>...</th>\n",
       "      <td>...</td>\n",
       "      <td>...</td>\n",
       "      <td>...</td>\n",
       "      <td>...</td>\n",
       "      <td>...</td>\n",
       "      <td>...</td>\n",
       "    </tr>\n",
       "    <tr>\n",
       "      <th>95</th>\n",
       "      <td>University of Virginia Health Foundtion</td>\n",
       "      <td>40-44-88</td>\n",
       "      <td>412097394</td>\n",
       "      <td>NFP</td>\n",
       "      <td>CHARLOTTESVILLE</td>\n",
       "      <td>VA</td>\n",
       "    </tr>\n",
       "    <tr>\n",
       "      <th>96</th>\n",
       "      <td>Violin Player</td>\n",
       "      <td>41-40-19</td>\n",
       "      <td>270773158</td>\n",
       "      <td>NFP</td>\n",
       "      <td>LONDONDERRY</td>\n",
       "      <td>NH</td>\n",
       "    </tr>\n",
       "    <tr>\n",
       "      <th>97</th>\n",
       "      <td>William A. Epps Community Center, Inc.</td>\n",
       "      <td>40-91-11</td>\n",
       "      <td>861074714</td>\n",
       "      <td>NFP</td>\n",
       "      <td>STATEN ISLAND</td>\n",
       "      <td>NY</td>\n",
       "    </tr>\n",
       "    <tr>\n",
       "      <th>98</th>\n",
       "      <td>WORLD SOCIETY OF CZESTOCHOWA JEWS AND THEIR DE...</td>\n",
       "      <td>40-46-49</td>\n",
       "      <td>205101779</td>\n",
       "      <td>NFP</td>\n",
       "      <td>NEW YORK</td>\n",
       "      <td>NY</td>\n",
       "    </tr>\n",
       "    <tr>\n",
       "      <th>99</th>\n",
       "      <td>Yum-O Organization, Inc.</td>\n",
       "      <td>40-50-07</td>\n",
       "      <td>208107545</td>\n",
       "      <td>NFP</td>\n",
       "      <td>NEW YORK</td>\n",
       "      <td>NY</td>\n",
       "    </tr>\n",
       "  </tbody>\n",
       "</table>\n",
       "<p>100 rows × 6 columns</p>\n",
       "</div>"
      ],
      "text/plain": [
       "                                    Organization Name  NY Reg #        EIN  \\\n",
       "0   \"Forever Captain Poodaman\" The Ahmad Butler Fo...  48-07-16  843800926   \n",
       "1                            \"Incredibly Blessed\" Inc  49-54-61  842071758   \n",
       "2                  \"R\" S.U.C.C.E.S.S. Foundation Inc.  49-06-59  874012670   \n",
       "3                                  \"Studio 5404\" Inc.  44-39-58  463180470   \n",
       "4                       \"THEY ARE HAITIAN\" FUND, INC.  20-63-46  300170128   \n",
       "..                                                ...       ...        ...   \n",
       "95            University of Virginia Health Foundtion  40-44-88  412097394   \n",
       "96                                      Violin Player  41-40-19  270773158   \n",
       "97             William A. Epps Community Center, Inc.  40-91-11  861074714   \n",
       "98  WORLD SOCIETY OF CZESTOCHOWA JEWS AND THEIR DE...  40-46-49  205101779   \n",
       "99                           Yum-O Organization, Inc.  40-50-07  208107545   \n",
       "\n",
       "   Registrant Type             City State  \n",
       "0              NFP     PHILADELPHIA    PA  \n",
       "1              NFP    STATEN ISLAND    NY  \n",
       "2              NFP        ROCHESTER    NY  \n",
       "3              NFP       MASSAPAQUA    NY  \n",
       "4              NFP           HUDSON    NY  \n",
       "..             ...              ...   ...  \n",
       "95             NFP  CHARLOTTESVILLE    VA  \n",
       "96             NFP      LONDONDERRY    NH  \n",
       "97             NFP    STATEN ISLAND    NY  \n",
       "98             NFP         NEW YORK    NY  \n",
       "99             NFP         NEW YORK    NY  \n",
       "\n",
       "[100 rows x 6 columns]"
      ]
     },
     "execution_count": 4,
     "metadata": {},
     "output_type": "execute_result"
    }
   ],
   "source": [
    "# Filter out the header rows that appear on every page\n",
    "all_pages_data = [row for row in all_pages_data if not (row and row[0].startswith('Organization Name'))]\n",
    "\n",
    "# Create a DataFrame from the collected data\n",
    "df = pd.DataFrame(all_pages_data, columns=[\"Organization Name\", \"NY Reg #\", \"EIN\", \"Registrant Type\", \"City\", \"State\"])\n",
    "\n",
    "# Display the DataFrame\n",
    "df"
   ]
  },
  {
   "cell_type": "markdown",
   "id": "d46802d8",
   "metadata": {},
   "source": [
    "### Step 1.3: Creating an S3 Bucket"
   ]
  },
  {
   "cell_type": "code",
   "execution_count": 6,
   "id": "55816fc3",
   "metadata": {},
   "outputs": [
    {
     "name": "stdout",
     "output_type": "stream",
     "text": [
      "Bucket \"m10-assignment-deepakguda\" created successfully.\n"
     ]
    }
   ],
   "source": [
    "import logging\n",
    "import boto3\n",
    "from botocore.exceptions import ClientError\n",
    "\n",
    "def create_bucket(bucket_name, region=None):\n",
    "    \"\"\"\n",
    "    \n",
    "    Create an S3 bucket in a specified region. If a region is not specified,\n",
    "    the bucket is created in the S3 default region (us-east-1).\n",
    "    :param bucket_name: Bucket to create\n",
    "    :param region: String region to create bucket in, e.g., 'us-east-2'\n",
    "    :return: True if bucket created, else False\n",
    "    \n",
    "    \"\"\"\n",
    "    try:\n",
    "        if region is None:\n",
    "            s3_client = boto3.client('s3')\n",
    "            s3_client.create_bucket(Bucket=bucket_name)\n",
    "        else:\n",
    "            s3_client = boto3.client('s3', region_name=region)\n",
    "            location = {'LocationConstraint': region}\n",
    "            s3_client.create_bucket(Bucket=bucket_name, CreateBucketConfiguration=location)\n",
    "    except ClientError as e:\n",
    "        logging.error(e)\n",
    "        return False\n",
    "    return True\n",
    "\n",
    "# Attempt to create the bucket\n",
    "bucket_name = 'm10-assignment-deepakguda'  \n",
    "region = 'us-east-2'  # Specify your region\n",
    "\n",
    "if create_bucket(bucket_name, region):\n",
    "    print(f'Bucket \"{bucket_name}\" created successfully.')\n",
    "else:\n",
    "    print(f'Failed to create bucket \"{bucket_name}\". Please check the logs for more details.')"
   ]
  },
  {
   "cell_type": "markdown",
   "id": "2c79a81c",
   "metadata": {},
   "source": [
    "### Step 1.4: Converting it into csv and Loading the Data into S3 Bucket"
   ]
  },
  {
   "cell_type": "code",
   "execution_count": 7,
   "id": "a188814f",
   "metadata": {},
   "outputs": [
    {
     "name": "stdout",
     "output_type": "stream",
     "text": [
      "Requirement already satisfied: awscli in c:\\users\\deepa\\anaconda3\\lib\\site-packages (1.32.84)\n",
      "Requirement already satisfied: botocore==1.34.84 in c:\\users\\deepa\\anaconda3\\lib\\site-packages (from awscli) (1.34.84)\n",
      "Requirement already satisfied: docutils<0.17,>=0.10 in c:\\users\\deepa\\anaconda3\\lib\\site-packages (from awscli) (0.16)\n",
      "Requirement already satisfied: s3transfer<0.11.0,>=0.10.0 in c:\\users\\deepa\\anaconda3\\lib\\site-packages (from awscli) (0.10.1)\n",
      "Requirement already satisfied: PyYAML<6.1,>=3.10 in c:\\users\\deepa\\anaconda3\\lib\\site-packages (from awscli) (6.0)\n",
      "Requirement already satisfied: colorama<0.4.5,>=0.2.5 in c:\\users\\deepa\\anaconda3\\lib\\site-packages (from awscli) (0.4.4)\n",
      "Requirement already satisfied: rsa<4.8,>=3.1.2 in c:\\users\\deepa\\anaconda3\\lib\\site-packages (from awscli) (4.7.2)\n",
      "Requirement already satisfied: jmespath<2.0.0,>=0.7.1 in c:\\users\\deepa\\anaconda3\\lib\\site-packages (from botocore==1.34.84->awscli) (0.10.0)\n",
      "Requirement already satisfied: python-dateutil<3.0.0,>=2.1 in c:\\users\\deepa\\anaconda3\\lib\\site-packages (from botocore==1.34.84->awscli) (2.8.2)\n",
      "Requirement already satisfied: urllib3!=2.2.0,<3,>=1.25.4 in c:\\users\\deepa\\anaconda3\\lib\\site-packages (from botocore==1.34.84->awscli) (1.26.16)\n",
      "Requirement already satisfied: pyasn1>=0.1.3 in c:\\users\\deepa\\anaconda3\\lib\\site-packages (from rsa<4.8,>=3.1.2->awscli) (0.4.8)\n",
      "Requirement already satisfied: six>=1.5 in c:\\users\\deepa\\anaconda3\\lib\\site-packages (from python-dateutil<3.0.0,>=2.1->botocore==1.34.84->awscli) (1.16.0)\n",
      "Note: you may need to restart the kernel to use updated packages.\n"
     ]
    }
   ],
   "source": [
    "pip install awscli"
   ]
  },
  {
   "cell_type": "code",
   "execution_count": 8,
   "id": "62b93f06",
   "metadata": {},
   "outputs": [
    {
     "name": "stdout",
     "output_type": "stream",
     "text": [
      " Succesfully File : deepakguda_charities_bureau_scrape_2024-04-14_18-02-38.csv uploaded to s3 bucket: m10-assignment-deepakguda\n"
     ]
    }
   ],
   "source": [
    "import awscli\n",
    "import pandas as pd\n",
    "from io import StringIO  # For handling CSV content as a string buffer\n",
    "from datetime import datetime  # For generating timestamps\n",
    "\n",
    "# Assuming 'df' is your final DataFrame\n",
    "csv_buffer = StringIO()\n",
    "df.to_csv(csv_buffer)\n",
    "\n",
    "# Generate timestamp\n",
    "timestamp = datetime.now().strftime(\"%Y-%m-%d_%H-%M-%S\")\n",
    "\n",
    "# Initialize an S3 client using boto3\n",
    "s3_resource = boto3.resource('s3')\n",
    "bucket_name = 'm10-assignment-deepakguda'  # Replace with your bucket name\n",
    "file_name = f'deepakguda_charities_bureau_scrape_{timestamp}.csv'  # Append timestamp to file name\n",
    "df.to_csv(file_name)\n",
    "\n",
    "# Upload the CSV file\n",
    "s3_resource.Object(bucket_name, file_name).put(Body=csv_buffer.getvalue())\n",
    "\n",
    "print(f\" Succesfully File : {file_name} uploaded to s3 bucket: {bucket_name}\")"
   ]
  },
  {
   "cell_type": "markdown",
   "id": "24c6bb84",
   "metadata": {},
   "source": [
    "### Step 1.5: Checking the Objects in the S3 bucket."
   ]
  },
  {
   "cell_type": "code",
   "execution_count": 9,
   "id": "48fc68e0",
   "metadata": {},
   "outputs": [
    {
     "name": "stdout",
     "output_type": "stream",
     "text": [
      "Objects in the bucket:\n",
      "deepakguda_charities_bureau_scrape_2024-04-14_18-02-38.csv\n"
     ]
    }
   ],
   "source": [
    "s3_client = boto3.client('s3')\n",
    "\n",
    "# Specify the bucket name\n",
    "bucket_name = 'm10-assignment-deepakguda'  # Replace with your bucket name\n",
    "\n",
    "# List objects in the bucket\n",
    "response = s3_client.list_objects_v2(Bucket=bucket_name)\n",
    "\n",
    "# Print the list of objects\n",
    "if 'Contents' in response:\n",
    "    print(\"Objects in the bucket:\")\n",
    "    for obj in response['Contents']:\n",
    "        print(obj['Key'])\n",
    "else:\n",
    "    print(\"The bucket is empty or does not exist.\")"
   ]
  },
  {
   "cell_type": "markdown",
   "id": "ebf15433",
   "metadata": {},
   "source": [
    "### Step 2: Performing Data Cleaning\n",
    "\n",
    "Here Data cleaning is performed, because in the first csv it starts with Zero indexing, now after performing the steps it starts with one."
   ]
  },
  {
   "cell_type": "code",
   "execution_count": 10,
   "id": "3f86e65c",
   "metadata": {},
   "outputs": [],
   "source": [
    "# Increment index by 1 to start from 1.\n",
    "df.index += 1  "
   ]
  },
  {
   "cell_type": "code",
   "execution_count": 11,
   "id": "eccc8100",
   "metadata": {},
   "outputs": [],
   "source": [
    "updated_df = df"
   ]
  },
  {
   "cell_type": "code",
   "execution_count": 12,
   "id": "790478bc",
   "metadata": {},
   "outputs": [
    {
     "data": {
      "text/html": [
       "<div>\n",
       "<style scoped>\n",
       "    .dataframe tbody tr th:only-of-type {\n",
       "        vertical-align: middle;\n",
       "    }\n",
       "\n",
       "    .dataframe tbody tr th {\n",
       "        vertical-align: top;\n",
       "    }\n",
       "\n",
       "    .dataframe thead th {\n",
       "        text-align: right;\n",
       "    }\n",
       "</style>\n",
       "<table border=\"1\" class=\"dataframe\">\n",
       "  <thead>\n",
       "    <tr style=\"text-align: right;\">\n",
       "      <th></th>\n",
       "      <th>Organization Name</th>\n",
       "      <th>NY Reg #</th>\n",
       "      <th>EIN</th>\n",
       "      <th>Registrant Type</th>\n",
       "      <th>City</th>\n",
       "      <th>State</th>\n",
       "    </tr>\n",
       "  </thead>\n",
       "  <tbody>\n",
       "    <tr>\n",
       "      <th>1</th>\n",
       "      <td>\"Forever Captain Poodaman\" The Ahmad Butler Fo...</td>\n",
       "      <td>48-07-16</td>\n",
       "      <td>843800926</td>\n",
       "      <td>NFP</td>\n",
       "      <td>PHILADELPHIA</td>\n",
       "      <td>PA</td>\n",
       "    </tr>\n",
       "    <tr>\n",
       "      <th>2</th>\n",
       "      <td>\"Incredibly Blessed\" Inc</td>\n",
       "      <td>49-54-61</td>\n",
       "      <td>842071758</td>\n",
       "      <td>NFP</td>\n",
       "      <td>STATEN ISLAND</td>\n",
       "      <td>NY</td>\n",
       "    </tr>\n",
       "    <tr>\n",
       "      <th>3</th>\n",
       "      <td>\"R\" S.U.C.C.E.S.S. Foundation Inc.</td>\n",
       "      <td>49-06-59</td>\n",
       "      <td>874012670</td>\n",
       "      <td>NFP</td>\n",
       "      <td>ROCHESTER</td>\n",
       "      <td>NY</td>\n",
       "    </tr>\n",
       "    <tr>\n",
       "      <th>4</th>\n",
       "      <td>\"Studio 5404\" Inc.</td>\n",
       "      <td>44-39-58</td>\n",
       "      <td>463180470</td>\n",
       "      <td>NFP</td>\n",
       "      <td>MASSAPAQUA</td>\n",
       "      <td>NY</td>\n",
       "    </tr>\n",
       "    <tr>\n",
       "      <th>5</th>\n",
       "      <td>\"THEY ARE HAITIAN\" FUND, INC.</td>\n",
       "      <td>20-63-46</td>\n",
       "      <td>300170128</td>\n",
       "      <td>NFP</td>\n",
       "      <td>HUDSON</td>\n",
       "      <td>NY</td>\n",
       "    </tr>\n",
       "    <tr>\n",
       "      <th>...</th>\n",
       "      <td>...</td>\n",
       "      <td>...</td>\n",
       "      <td>...</td>\n",
       "      <td>...</td>\n",
       "      <td>...</td>\n",
       "      <td>...</td>\n",
       "    </tr>\n",
       "    <tr>\n",
       "      <th>96</th>\n",
       "      <td>University of Virginia Health Foundtion</td>\n",
       "      <td>40-44-88</td>\n",
       "      <td>412097394</td>\n",
       "      <td>NFP</td>\n",
       "      <td>CHARLOTTESVILLE</td>\n",
       "      <td>VA</td>\n",
       "    </tr>\n",
       "    <tr>\n",
       "      <th>97</th>\n",
       "      <td>Violin Player</td>\n",
       "      <td>41-40-19</td>\n",
       "      <td>270773158</td>\n",
       "      <td>NFP</td>\n",
       "      <td>LONDONDERRY</td>\n",
       "      <td>NH</td>\n",
       "    </tr>\n",
       "    <tr>\n",
       "      <th>98</th>\n",
       "      <td>William A. Epps Community Center, Inc.</td>\n",
       "      <td>40-91-11</td>\n",
       "      <td>861074714</td>\n",
       "      <td>NFP</td>\n",
       "      <td>STATEN ISLAND</td>\n",
       "      <td>NY</td>\n",
       "    </tr>\n",
       "    <tr>\n",
       "      <th>99</th>\n",
       "      <td>WORLD SOCIETY OF CZESTOCHOWA JEWS AND THEIR DE...</td>\n",
       "      <td>40-46-49</td>\n",
       "      <td>205101779</td>\n",
       "      <td>NFP</td>\n",
       "      <td>NEW YORK</td>\n",
       "      <td>NY</td>\n",
       "    </tr>\n",
       "    <tr>\n",
       "      <th>100</th>\n",
       "      <td>Yum-O Organization, Inc.</td>\n",
       "      <td>40-50-07</td>\n",
       "      <td>208107545</td>\n",
       "      <td>NFP</td>\n",
       "      <td>NEW YORK</td>\n",
       "      <td>NY</td>\n",
       "    </tr>\n",
       "  </tbody>\n",
       "</table>\n",
       "<p>100 rows × 6 columns</p>\n",
       "</div>"
      ],
      "text/plain": [
       "                                     Organization Name  NY Reg #        EIN  \\\n",
       "1    \"Forever Captain Poodaman\" The Ahmad Butler Fo...  48-07-16  843800926   \n",
       "2                             \"Incredibly Blessed\" Inc  49-54-61  842071758   \n",
       "3                   \"R\" S.U.C.C.E.S.S. Foundation Inc.  49-06-59  874012670   \n",
       "4                                   \"Studio 5404\" Inc.  44-39-58  463180470   \n",
       "5                        \"THEY ARE HAITIAN\" FUND, INC.  20-63-46  300170128   \n",
       "..                                                 ...       ...        ...   \n",
       "96             University of Virginia Health Foundtion  40-44-88  412097394   \n",
       "97                                       Violin Player  41-40-19  270773158   \n",
       "98              William A. Epps Community Center, Inc.  40-91-11  861074714   \n",
       "99   WORLD SOCIETY OF CZESTOCHOWA JEWS AND THEIR DE...  40-46-49  205101779   \n",
       "100                           Yum-O Organization, Inc.  40-50-07  208107545   \n",
       "\n",
       "    Registrant Type             City State  \n",
       "1               NFP     PHILADELPHIA    PA  \n",
       "2               NFP    STATEN ISLAND    NY  \n",
       "3               NFP        ROCHESTER    NY  \n",
       "4               NFP       MASSAPAQUA    NY  \n",
       "5               NFP           HUDSON    NY  \n",
       "..              ...              ...   ...  \n",
       "96              NFP  CHARLOTTESVILLE    VA  \n",
       "97              NFP      LONDONDERRY    NH  \n",
       "98              NFP    STATEN ISLAND    NY  \n",
       "99              NFP         NEW YORK    NY  \n",
       "100             NFP         NEW YORK    NY  \n",
       "\n",
       "[100 rows x 6 columns]"
      ]
     },
     "execution_count": 12,
     "metadata": {},
     "output_type": "execute_result"
    }
   ],
   "source": [
    "updated_df"
   ]
  },
  {
   "cell_type": "markdown",
   "id": "e14efb4f",
   "metadata": {},
   "source": [
    "### Step 2.1 : Uploading the updated_df data into the s3 bucket."
   ]
  },
  {
   "cell_type": "code",
   "execution_count": 13,
   "id": "721c0f1b",
   "metadata": {},
   "outputs": [
    {
     "name": "stdout",
     "output_type": "stream",
     "text": [
      "File Updated_csv_deepakguda_charities_bureau_scrape_2024-04-14_18-03-34.csv uploaded to m10-assignment-deepakguda\n"
     ]
    }
   ],
   "source": [
    "# Assuming 'df' is your final DataFrame\n",
    "csv_buffer = StringIO()\n",
    "updated_df.to_csv(csv_buffer)\n",
    "\n",
    "# Generate timestamp\n",
    "timestamp = datetime.now().strftime(\"%Y-%m-%d_%H-%M-%S\")\n",
    "\n",
    "# Initialize an S3 client using boto3\n",
    "s3_resource = boto3.resource('s3')\n",
    "bucket_name = 'm10-assignment-deepakguda'  # Replace with your bucket name\n",
    "file_name = f'Updated_csv_deepakguda_charities_bureau_scrape_{timestamp}.csv'  # Append timestamp to file name\n",
    "updated_df.to_csv(file_name)\n",
    "\n",
    "# Upload the CSV file\n",
    "s3_resource.Object(bucket_name, file_name).put(Body=csv_buffer.getvalue())\n",
    "\n",
    "print(f\"File {file_name} uploaded to {bucket_name}\")"
   ]
  },
  {
   "cell_type": "markdown",
   "id": "e1dd0378",
   "metadata": {},
   "source": [
    "### Step 2.2 : Checking the Objects in the S3 bucket."
   ]
  },
  {
   "cell_type": "code",
   "execution_count": 14,
   "id": "625d4c05",
   "metadata": {},
   "outputs": [
    {
     "name": "stdout",
     "output_type": "stream",
     "text": [
      "Objects in the bucket:\n",
      "Updated_csv_deepakguda_charities_bureau_scrape_2024-04-14_18-03-34.csv\n",
      "deepakguda_charities_bureau_scrape_2024-04-14_18-02-38.csv\n"
     ]
    }
   ],
   "source": [
    "# Initialize an S3 client using boto3\n",
    "s3_client = boto3.client('s3')\n",
    "\n",
    "# Specify the bucket name\n",
    "bucket_name = 'm10-assignment-deepakguda'  # Replace with your bucket name\n",
    "\n",
    "# List objects in the bucket\n",
    "response = s3_client.list_objects_v2(Bucket=bucket_name)\n",
    "\n",
    "# Print the list of objects\n",
    "if 'Contents' in response:\n",
    "    print(\"Objects in the bucket:\")\n",
    "    for obj in response['Contents']:\n",
    "        print(obj['Key'])\n",
    "else:\n",
    "    print(\"The bucket is empty or does not exist.\")"
   ]
  }
 ],
 "metadata": {
  "kernelspec": {
   "display_name": "Python 3 (ipykernel)",
   "language": "python",
   "name": "python3"
  },
  "language_info": {
   "codemirror_mode": {
    "name": "ipython",
    "version": 3
   },
   "file_extension": ".py",
   "mimetype": "text/x-python",
   "name": "python",
   "nbconvert_exporter": "python",
   "pygments_lexer": "ipython3",
   "version": "3.11.4"
  }
 },
 "nbformat": 4,
 "nbformat_minor": 5
}
